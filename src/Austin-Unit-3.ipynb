{
 "cells": [
  {
   "cell_type": "code",
   "execution_count": 19,
   "metadata": {},
   "outputs": [],
   "source": [
    "\"\"\"\n",
    "Name: Michael Austin\n",
    "\n",
    "Academic Integrity Policy: The work I have submitted is my own and I have not done anything that would violate the academic integrity policy of WVU.\n",
    "\"\"\"\n",
    "\n",
    "# Works as far as I can tell. The result is just the sum of combinations using a looping structure.\n",
    "# and combinations() works, so...\n",
    "def hypercake(n,k):\n",
    "    # takes int as variables \n",
    "    def combinations(n,r):\n",
    "        # Factorial implemented in a recursive fashion. \n",
    "        def factorial(n):\n",
    "            if n <= 1:\n",
    "                return 1\n",
    "            else:\n",
    "                return (n * factorial(n-1))\n",
    "\n",
    "        numerator = factorial(n)\n",
    "        r_factorial = factorial(r)\n",
    "        n_minus_r_factorial = factorial(n-r)\n",
    "        result = (numerator/(r_factorial*n_minus_r_factorial))\n",
    "        return int(result)\n",
    "\n",
    "    result = 0\n",
    "    for i in range(k):\n",
    "       result += combinations(n,i)\n",
    "    return int(result)\n",
    "\n",
    "# Asks user for values of n and k, then passes them on to the hypercake function.\n",
    "def display():\n",
    "    print(\"Please enter a value for n number of cuts: \")\n",
    "    n = int(input())\n",
    "    print(\"Please enter a value for k dimensions: \")\n",
    "    k = int(input())\n",
    "    result = hypercake(n,k)\n",
    "    print(f\"The hypercake result of n = {n} and k = {k} is {result}\")"
   ]
  },
  {
   "cell_type": "code",
   "execution_count": 21,
   "metadata": {},
   "outputs": [
    {
     "output_type": "stream",
     "name": "stdout",
     "text": [
      "130\n"
     ]
    }
   ],
   "source": [
    "print(hypercake(9,4))"
   ]
  },
  {
   "cell_type": "code",
   "execution_count": null,
   "metadata": {},
   "outputs": [],
   "source": []
  }
 ],
 "metadata": {
  "kernelspec": {
   "display_name": "Python 3",
   "language": "python",
   "name": "python3"
  },
  "language_info": {
   "codemirror_mode": {
    "name": "ipython",
    "version": 3
   },
   "file_extension": ".py",
   "mimetype": "text/x-python",
   "name": "python",
   "nbconvert_exporter": "python",
   "pygments_lexer": "ipython3",
   "version": "3.7.5-final"
  }
 },
 "nbformat": 4,
 "nbformat_minor": 2
}