{
 "cells": [
  {
   "cell_type": "code",
   "execution_count": 1,
   "metadata": {},
   "outputs": [],
   "source": [
    "# Factorial is good\n",
    "def factorial(n):\n",
    "    result = 1\n",
    "    while(n > 1):\n",
    "        result *= n\n",
    "        n -= 1\n",
    "    return result\n",
    "\n",
    "# Combinations works \n",
    "def combinations(n,r):\n",
    "    numerator = factorial(n)\n",
    "    r_factorial = factorial(r)\n",
    "    n_minus_r_factorial = factorial(n-r)\n",
    "    result = (numerator/(r_factorial*n_minus_r_factorial))\n",
    "    return int(result)\n",
    "\n",
    "# Works as far as I can tell. The result is just the sum of three combinations.\n",
    "# and combinations() work, so...\n",
    "def pancake(n):\n",
    "    n_0 = combinations(n,0)\n",
    "    n_1 = combinations(n,1)\n",
    "    n_2 = combinations(n,2)\n",
    "    result = n_0 + n_1 + n_2\n",
    "    return int(result)\n",
    "\n",
    "# Works as far as I can tell. The result is just the sum of pancake + nC3.\n",
    "# and combinations() work, so...\n",
    "def cake(n):\n",
    "    pan = pancake(n)\n",
    "    n_3 = combinations(n,3)\n",
    "    result = pan + n_3\n",
    "    return int(result)\n",
    "\n",
    "# Works as far as I can tell\n",
    "# Just cake + nCk-3\n",
    "def hypercake(n,k):\n",
    "    result = cake(n)\n",
    "    counter = 4\n",
    "    while(counter < k):\n",
    "        result += combinations(n,counter)\n",
    "        counter += 1\n",
    "    return result\n",
    "\n",
    "# Asks user for values of n and k, then passes them on to the hypercake function.\n",
    "def display():\n",
    "    print(\"Please enter a value for n number of cuts: \")\n",
    "    n = int(input())\n",
    "    print(\"Please enter a value for k dimensions: \")\n",
    "    k = int(input())\n",
    "    result = hypercake(n,k)\n",
    "    print(f\"The hypercake result of n = {n} and k = {k} is {result}\")"
   ]
  },
  {
   "cell_type": "code",
   "execution_count": 2,
   "metadata": {},
   "outputs": [
    {
     "output_type": "stream",
     "name": "stdout",
     "text": [
      "Please enter a value for n number of cuts: \n",
      "Please enter a value for k dimensions: \n",
      "The hypercake result of n = 10 and k = 6 is 758\n"
     ]
    }
   ],
   "source": [
    "display()"
   ]
  },
  {
   "cell_type": "code",
   "execution_count": null,
   "metadata": {},
   "outputs": [],
   "source": []
  }
 ],
 "metadata": {
  "kernelspec": {
   "display_name": "Python 3",
   "language": "python",
   "name": "python3"
  },
  "language_info": {
   "codemirror_mode": {
    "name": "ipython",
    "version": 3
   },
   "file_extension": ".py",
   "mimetype": "text/x-python",
   "name": "python",
   "nbconvert_exporter": "python",
   "pygments_lexer": "ipython3",
   "version": "3.7.5-final"
  }
 },
 "nbformat": 4,
 "nbformat_minor": 2
}